{
 "cells": [
  {
   "cell_type": "markdown",
   "metadata": {},
   "source": [
    "# Complex matrix inversion with TensorFlow\n",
    "\n",
    "**Nuno de Sousa, Ph.D. Theoretical Physics**  \n",
    "*Actually Senior Data Scientist at DataJuicers*  \n",
    "*October 2017*"
   ]
  },
  {
   "cell_type": "markdown",
   "metadata": {},
   "source": [
    "-----------------------"
   ]
  },
  {
   "cell_type": "markdown",
   "metadata": {},
   "source": [
    "### Introduction\n",
    "The numerical evaluation of the inverse of a matrix is very common problem in science. Examples can be easily found in all subfields of physics, such as electrodynamics[1] or phase transitions[2].  \n",
    "Until know the vast majority of the calculations where made in CPUs. However in the last decade the GPUs get into the scene, due to a significant efford of hardware companies to adapt their hardware to scientific computation.\n",
    "\n",
    "The goal of this notebook is to show how to compute the inverse of a random complex matrix using tensorflow.\n",
    "\n",
    "\n",
    "[1] *'Magneto-Optical Activity in High Index Dielectric Nanoantennas'*, N. De Sousa, L.S. Froufe-Pérez, J.J. Sáenz, A. García-Martín, Sci. Rep. **6** (2016).  \n",
    "[2] *'Effect of long range spatial correlations on the lifetime statistics of an emitter in a two-dimensional disordered lattice'*, N. de Sousa, J.J. Sáenz, A. García-Martín, L.S. Froufe-Pérez, M.I. Marqués, Phys. Rev. A **89**, 063830 (2016)."
   ]
  },
  {
   "cell_type": "markdown",
   "metadata": {},
   "source": [
    "### Code example"
   ]
  },
  {
   "cell_type": "code",
   "execution_count": 48,
   "metadata": {},
   "outputs": [
    {
     "name": "stdout",
     "output_type": "stream",
     "text": [
      "numpy version: 1.17.2\n",
      "tensorflow version: 1.14.0\n"
     ]
    }
   ],
   "source": [
    "# Libraries\n",
    "import tensorflow as tf\n",
    "from datetime import datetime\n",
    "import numpy as np\n",
    "print('numpy version: {}'.format(np.__version__))\n",
    "print('tensorflow version: {}'.format(tf.__version__))"
   ]
  },
  {
   "cell_type": "code",
   "execution_count": 49,
   "metadata": {},
   "outputs": [],
   "source": [
    "# Definition of parameters\n",
    "dim = 3000 # Dimension of the Matrix"
   ]
  },
  {
   "cell_type": "code",
   "execution_count": 50,
   "metadata": {},
   "outputs": [
    {
     "data": {
      "text/plain": [
       "<tf.Tensor 'Complex_4:0' shape=(3000, 3000) dtype=complex64>"
      ]
     },
     "execution_count": 50,
     "metadata": {},
     "output_type": "execute_result"
    }
   ],
   "source": [
    "# Generation of a complex matrix where the elements are obtained using the random uniform distribution.\n",
    "real = tf.random_uniform((dim,dim)) # Real part of the matrix\n",
    "imag = tf.random_uniform((dim,dim)) # Imaginary part of the matrix\n",
    "\n",
    "A = tf.complex(real, imag) # Matrix to invert\n",
    "A"
   ]
  },
  {
   "cell_type": "code",
   "execution_count": 51,
   "metadata": {},
   "outputs": [
    {
     "name": "stdout",
     "output_type": "stream",
     "text": [
      "time elapsed tensorflow:  0:00:05.701348\n"
     ]
    }
   ],
   "source": [
    "s = tf.Session() # Initialize tensorflow session\n",
    "s.run(tf.global_variables_initializer()) # Initialize variables\n",
    "invA = tf.matrix_inverse(A) # Define the matrix inversion\n",
    "st = datetime.now()\n",
    "s.run(invA) # Run the inversion\n",
    "print(\"time elapsed tensorflow: \", datetime.now() - st)"
   ]
  },
  {
   "cell_type": "code",
   "execution_count": 43,
   "metadata": {},
   "outputs": [],
   "source": [
    "# Evaluation with the standard method of numpy"
   ]
  },
  {
   "cell_type": "code",
   "execution_count": 54,
   "metadata": {},
   "outputs": [
    {
     "data": {
      "text/plain": [
       "<tf.Tensor 'Const_8:0' shape=(3000, 3000) dtype=complex64>"
      ]
     },
     "execution_count": 54,
     "metadata": {},
     "output_type": "execute_result"
    }
   ],
   "source": [
    "B = np.random.rand(dim,dim) + np.random.rand(dim,dim)*1j\n",
    "B = tf.convert_to_tensor(B, np.complex64)\n",
    "B"
   ]
  },
  {
   "cell_type": "code",
   "execution_count": 55,
   "metadata": {},
   "outputs": [
    {
     "name": "stdout",
     "output_type": "stream",
     "text": [
      "time elapsed tensorflow:  0:00:06.309550\n"
     ]
    }
   ],
   "source": [
    "s = tf.Session() # Initialize tensorflow session\n",
    "s.run(tf.global_variables_initializer()) # Initialize variables\n",
    "invB = tf.matrix_inverse(B) # Define the matrix inversion\n",
    "st = datetime.now()\n",
    "s.run(invB) # Run the inversion\n",
    "print(\"time elapsed tensorflow: \", datetime.now() - st)"
   ]
  },
  {
   "cell_type": "code",
   "execution_count": 47,
   "metadata": {},
   "outputs": [
    {
     "name": "stdout",
     "output_type": "stream",
     "text": [
      "CPU times: user 5.19 s, sys: 16.9 ms, total: 5.21 s\n",
      "Wall time: 1.31 s\n"
     ]
    },
    {
     "data": {
      "text/plain": [
       "array([[-0.04970182+1.52330638e-02j,  0.05828814-5.87835558e-02j,\n",
       "         0.05641985+5.98450688e-02j, ...,  0.08243302+5.95417818e-02j,\n",
       "        -0.00742207+9.94262332e-02j,  0.11123298+6.44066686e-02j],\n",
       "       [-0.00086323-4.33067533e-02j,  0.00275272+5.30800008e-02j,\n",
       "        -0.05113508+3.42554620e-02j, ..., -0.03831891+2.92680160e-02j,\n",
       "        -0.03523303-2.84557395e-02j, -0.05855506+5.18881503e-02j],\n",
       "       [-0.01453289+1.57792982e-02j,  0.00909647-1.11703644e-02j,\n",
       "         0.04065411-6.46891950e-03j, ..., -0.00462296-1.96114689e-02j,\n",
       "        -0.00918132-1.63224006e-02j,  0.01512018-5.78634542e-03j],\n",
       "       ...,\n",
       "       [-0.04451798-1.74406196e-04j,  0.02857466-3.31673522e-02j,\n",
       "         0.07227872+2.98073607e-02j, ...,  0.01629507-7.24928575e-03j,\n",
       "         0.03040738+2.32302703e-02j,  0.06044516-8.34323739e-04j],\n",
       "       [-0.0220214 -3.91323046e-03j,  0.01410871+1.47497219e-02j,\n",
       "        -0.02941264+1.74051104e-02j, ...,  0.00791714+1.97820297e-02j,\n",
       "        -0.05578704-4.35549127e-03j,  0.00807424+9.32937519e-03j],\n",
       "       [-0.04050556-3.15729331e-02j,  0.12111248+5.24144659e-02j,\n",
       "        -0.00756628+1.24340709e-01j, ...,  0.00366648+1.12282495e-01j,\n",
       "        -0.06633742+6.41268239e-02j,  0.04868265+2.15503675e-01j]])"
      ]
     },
     "execution_count": 47,
     "metadata": {},
     "output_type": "execute_result"
    }
   ],
   "source": [
    "#using numpy\n",
    "%time np.linalg.inv(B);"
   ]
  },
  {
   "cell_type": "code",
   "execution_count": null,
   "metadata": {},
   "outputs": [],
   "source": []
  }
 ],
 "metadata": {
  "kernelspec": {
   "display_name": "Python 3",
   "language": "python",
   "name": "python3"
  },
  "language_info": {
   "codemirror_mode": {
    "name": "ipython",
    "version": 3
   },
   "file_extension": ".py",
   "mimetype": "text/x-python",
   "name": "python",
   "nbconvert_exporter": "python",
   "pygments_lexer": "ipython3",
   "version": "3.7.4"
  }
 },
 "nbformat": 4,
 "nbformat_minor": 2
}
