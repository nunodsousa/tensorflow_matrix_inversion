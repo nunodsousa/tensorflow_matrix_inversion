{
 "cells": [
  {
   "cell_type": "markdown",
   "metadata": {},
   "source": [
    "# Complex matrix inversion with TensorFlow\n",
    "\n",
    "**Nuno de Sousa, Ph.D. Theoretical Physics**  \n",
    "*Actually Senior Data Scientist at DataJuicers*  \n",
    "*October 2017*"
   ]
  },
  {
   "cell_type": "markdown",
   "metadata": {},
   "source": [
    "-----------------------"
   ]
  },
  {
   "cell_type": "markdown",
   "metadata": {},
   "source": [
    "### Introduction\n",
    "The evaluation of the inverse of a matrix is very common problem in science. Examples can be easily found in all subfields of physics, such as electrodynamics[1] or phase transitions[2].  \n",
    "Until know the vast majority of the calculations where made in CPUs. However in the last decade the GPUs get into the scene, due to a significant efford of hardware companies to adapt their hardware to scientific computation.\n",
    "\n",
    "The goal of this notebook is to show how to compute the inverse of a random complex matrix using tensorflow.\n",
    "\n",
    "\n",
    "[1] *'Magneto-Optical Activity in High Index Dielectric Nanoantennas'*, N. De Sousa, L.S. Froufe-Pérez, J.J. Sáenz, A. García-Martín, Sci. Rep. **6** (2016).  \n",
    "[2] *'Effect of long range spatial correlations on the lifetime statistics of an emitter in a two-dimensional disordered lattice'*, N. de Sousa, J.J. Sáenz, A. García-Martín, L.S. Froufe-Pérez, M.I. Marqués, Phys. Rev. A **89**, 063830 (2016)."
   ]
  },
  {
   "cell_type": "markdown",
   "metadata": {},
   "source": [
    "### Code example"
   ]
  },
  {
   "cell_type": "code",
   "execution_count": 1,
   "metadata": {},
   "outputs": [
    {
     "name": "stdout",
     "output_type": "stream",
     "text": [
      "tensorflow version: 1.3.0\n"
     ]
    }
   ],
   "source": [
    "# Libraries\n",
    "import tensorflow as tf\n",
    "from datetime import datetime\n",
    "print('tensorflow version: {}'.format(tf.__version__))"
   ]
  },
  {
   "cell_type": "code",
   "execution_count": 2,
   "metadata": {
    "collapsed": true
   },
   "outputs": [],
   "source": [
    "# Definition of parameters\n",
    "dim = 1000 # Dimension of the Matrix"
   ]
  },
  {
   "cell_type": "code",
   "execution_count": 3,
   "metadata": {
    "collapsed": true
   },
   "outputs": [],
   "source": [
    "# Generation of a complex matrix where the elements are obtained using the random uniform distribution.\n",
    "real = tf.random_uniform((dim,dim)) # Real part of the matrix\n",
    "imag = tf.random_uniform((dim,dim)) # Imaginary part of the matrix\n",
    "\n",
    "A = tf.complex(real, imag) # Matrix to invert"
   ]
  },
  {
   "cell_type": "code",
   "execution_count": 4,
   "metadata": {},
   "outputs": [
    {
     "name": "stdout",
     "output_type": "stream",
     "text": [
      "time elapsed tensorflow:  0:00:00.894729\n"
     ]
    }
   ],
   "source": [
    "s = tf.Session() # Initialize tensorflow session\n",
    "s.run(tf.global_variables_initializer()) # Initialize variables\n",
    "invA = tf.matrix_inverse(A) # Define the matrix inversion\n",
    "st = datetime.now()\n",
    "s.run(invA) # Run the inversion\n",
    "print(\"time elapsed tensorflow: \", datetime.now() - st)"
   ]
  }
 ],
 "metadata": {
  "kernelspec": {
   "display_name": "Python 3",
   "language": "python",
   "name": "python3"
  },
  "language_info": {
   "codemirror_mode": {
    "name": "ipython",
    "version": 3
   },
   "file_extension": ".py",
   "mimetype": "text/x-python",
   "name": "python",
   "nbconvert_exporter": "python",
   "pygments_lexer": "ipython3",
   "version": "3.6.2"
  }
 },
 "nbformat": 4,
 "nbformat_minor": 2
}
